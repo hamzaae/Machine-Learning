{
  "nbformat": 4,
  "nbformat_minor": 0,
  "metadata": {
    "colab": {
      "provenance": [],
      "authorship_tag": "ABX9TyN4b+t55oU3ba/asIJEoGU2",
      "include_colab_link": true
    },
    "kernelspec": {
      "name": "python3",
      "display_name": "Python 3"
    },
    "language_info": {
      "name": "python"
    }
  },
  "cells": [
    {
      "cell_type": "markdown",
      "metadata": {
        "id": "view-in-github",
        "colab_type": "text"
      },
      "source": [
        "<a href=\"https://colab.research.google.com/github/hamzaae/Neural_Network_FeedForword_Diabetes_DataSet/blob/main/Neural_Network_FeedForword.ipynb\" target=\"_parent\"><img src=\"https://colab.research.google.com/assets/colab-badge.svg\" alt=\"Open In Colab\"/></a>"
      ]
    },
    {
      "cell_type": "markdown",
      "source": [
        "1. Importing Modules"
      ],
      "metadata": {
        "id": "jAN8gRu0YtGo"
      }
    },
    {
      "cell_type": "code",
      "execution_count": 18,
      "metadata": {
        "id": "werhMtqUXnIm"
      },
      "outputs": [],
      "source": [
        "import pandas as pd\n",
        "import numpy as np\n",
        "import matplotlib.pyplot as plt\n",
        "\n",
        "from imblearn.over_sampling import RandomOverSampler\n",
        "\n",
        "from sklearn.model_selection import train_test_split\n",
        "from sklearn.preprocessing import StandardScaler\n",
        "\n",
        "import tensorflow as tf"
      ]
    },
    {
      "cell_type": "markdown",
      "source": [
        "2. Creating DataFrame"
      ],
      "metadata": {
        "id": "_cQ1fw50Y0y5"
      }
    },
    {
      "cell_type": "code",
      "source": [
        "df = pd.read_csv('diabetes.csv')\n",
        "df.head()"
      ],
      "metadata": {
        "colab": {
          "base_uri": "https://localhost:8080/",
          "height": 270
        },
        "id": "0Y5LFnqjYbFZ",
        "outputId": "f89cb41d-d30a-4a3b-fa60-790b2fa35d8f"
      },
      "execution_count": 8,
      "outputs": [
        {
          "output_type": "execute_result",
          "data": {
            "text/plain": [
              "   Pregnancies  Glucose  BloodPressure  SkinThickness  Insulin   BMI  \\\n",
              "0            6      148             72             35        0  33.6   \n",
              "1            1       85             66             29        0  26.6   \n",
              "2            8      183             64              0        0  23.3   \n",
              "3            1       89             66             23       94  28.1   \n",
              "4            0      137             40             35      168  43.1   \n",
              "\n",
              "   DiabetesPedigreeFunction  Age  Outcome  \n",
              "0                     0.627   50        1  \n",
              "1                     0.351   31        0  \n",
              "2                     0.672   32        1  \n",
              "3                     0.167   21        0  \n",
              "4                     2.288   33        1  "
            ],
            "text/html": [
              "\n",
              "  <div id=\"df-c24dd82c-622f-4105-952d-232e897342cd\">\n",
              "    <div class=\"colab-df-container\">\n",
              "      <div>\n",
              "<style scoped>\n",
              "    .dataframe tbody tr th:only-of-type {\n",
              "        vertical-align: middle;\n",
              "    }\n",
              "\n",
              "    .dataframe tbody tr th {\n",
              "        vertical-align: top;\n",
              "    }\n",
              "\n",
              "    .dataframe thead th {\n",
              "        text-align: right;\n",
              "    }\n",
              "</style>\n",
              "<table border=\"1\" class=\"dataframe\">\n",
              "  <thead>\n",
              "    <tr style=\"text-align: right;\">\n",
              "      <th></th>\n",
              "      <th>Pregnancies</th>\n",
              "      <th>Glucose</th>\n",
              "      <th>BloodPressure</th>\n",
              "      <th>SkinThickness</th>\n",
              "      <th>Insulin</th>\n",
              "      <th>BMI</th>\n",
              "      <th>DiabetesPedigreeFunction</th>\n",
              "      <th>Age</th>\n",
              "      <th>Outcome</th>\n",
              "    </tr>\n",
              "  </thead>\n",
              "  <tbody>\n",
              "    <tr>\n",
              "      <th>0</th>\n",
              "      <td>6</td>\n",
              "      <td>148</td>\n",
              "      <td>72</td>\n",
              "      <td>35</td>\n",
              "      <td>0</td>\n",
              "      <td>33.6</td>\n",
              "      <td>0.627</td>\n",
              "      <td>50</td>\n",
              "      <td>1</td>\n",
              "    </tr>\n",
              "    <tr>\n",
              "      <th>1</th>\n",
              "      <td>1</td>\n",
              "      <td>85</td>\n",
              "      <td>66</td>\n",
              "      <td>29</td>\n",
              "      <td>0</td>\n",
              "      <td>26.6</td>\n",
              "      <td>0.351</td>\n",
              "      <td>31</td>\n",
              "      <td>0</td>\n",
              "    </tr>\n",
              "    <tr>\n",
              "      <th>2</th>\n",
              "      <td>8</td>\n",
              "      <td>183</td>\n",
              "      <td>64</td>\n",
              "      <td>0</td>\n",
              "      <td>0</td>\n",
              "      <td>23.3</td>\n",
              "      <td>0.672</td>\n",
              "      <td>32</td>\n",
              "      <td>1</td>\n",
              "    </tr>\n",
              "    <tr>\n",
              "      <th>3</th>\n",
              "      <td>1</td>\n",
              "      <td>89</td>\n",
              "      <td>66</td>\n",
              "      <td>23</td>\n",
              "      <td>94</td>\n",
              "      <td>28.1</td>\n",
              "      <td>0.167</td>\n",
              "      <td>21</td>\n",
              "      <td>0</td>\n",
              "    </tr>\n",
              "    <tr>\n",
              "      <th>4</th>\n",
              "      <td>0</td>\n",
              "      <td>137</td>\n",
              "      <td>40</td>\n",
              "      <td>35</td>\n",
              "      <td>168</td>\n",
              "      <td>43.1</td>\n",
              "      <td>2.288</td>\n",
              "      <td>33</td>\n",
              "      <td>1</td>\n",
              "    </tr>\n",
              "  </tbody>\n",
              "</table>\n",
              "</div>\n",
              "      <button class=\"colab-df-convert\" onclick=\"convertToInteractive('df-c24dd82c-622f-4105-952d-232e897342cd')\"\n",
              "              title=\"Convert this dataframe to an interactive table.\"\n",
              "              style=\"display:none;\">\n",
              "        \n",
              "  <svg xmlns=\"http://www.w3.org/2000/svg\" height=\"24px\"viewBox=\"0 0 24 24\"\n",
              "       width=\"24px\">\n",
              "    <path d=\"M0 0h24v24H0V0z\" fill=\"none\"/>\n",
              "    <path d=\"M18.56 5.44l.94 2.06.94-2.06 2.06-.94-2.06-.94-.94-2.06-.94 2.06-2.06.94zm-11 1L8.5 8.5l.94-2.06 2.06-.94-2.06-.94L8.5 2.5l-.94 2.06-2.06.94zm10 10l.94 2.06.94-2.06 2.06-.94-2.06-.94-.94-2.06-.94 2.06-2.06.94z\"/><path d=\"M17.41 7.96l-1.37-1.37c-.4-.4-.92-.59-1.43-.59-.52 0-1.04.2-1.43.59L10.3 9.45l-7.72 7.72c-.78.78-.78 2.05 0 2.83L4 21.41c.39.39.9.59 1.41.59.51 0 1.02-.2 1.41-.59l7.78-7.78 2.81-2.81c.8-.78.8-2.07 0-2.86zM5.41 20L4 18.59l7.72-7.72 1.47 1.35L5.41 20z\"/>\n",
              "  </svg>\n",
              "      </button>\n",
              "      \n",
              "  <style>\n",
              "    .colab-df-container {\n",
              "      display:flex;\n",
              "      flex-wrap:wrap;\n",
              "      gap: 12px;\n",
              "    }\n",
              "\n",
              "    .colab-df-convert {\n",
              "      background-color: #E8F0FE;\n",
              "      border: none;\n",
              "      border-radius: 50%;\n",
              "      cursor: pointer;\n",
              "      display: none;\n",
              "      fill: #1967D2;\n",
              "      height: 32px;\n",
              "      padding: 0 0 0 0;\n",
              "      width: 32px;\n",
              "    }\n",
              "\n",
              "    .colab-df-convert:hover {\n",
              "      background-color: #E2EBFA;\n",
              "      box-shadow: 0px 1px 2px rgba(60, 64, 67, 0.3), 0px 1px 3px 1px rgba(60, 64, 67, 0.15);\n",
              "      fill: #174EA6;\n",
              "    }\n",
              "\n",
              "    [theme=dark] .colab-df-convert {\n",
              "      background-color: #3B4455;\n",
              "      fill: #D2E3FC;\n",
              "    }\n",
              "\n",
              "    [theme=dark] .colab-df-convert:hover {\n",
              "      background-color: #434B5C;\n",
              "      box-shadow: 0px 1px 3px 1px rgba(0, 0, 0, 0.15);\n",
              "      filter: drop-shadow(0px 1px 2px rgba(0, 0, 0, 0.3));\n",
              "      fill: #FFFFFF;\n",
              "    }\n",
              "  </style>\n",
              "\n",
              "      <script>\n",
              "        const buttonEl =\n",
              "          document.querySelector('#df-c24dd82c-622f-4105-952d-232e897342cd button.colab-df-convert');\n",
              "        buttonEl.style.display =\n",
              "          google.colab.kernel.accessAllowed ? 'block' : 'none';\n",
              "\n",
              "        async function convertToInteractive(key) {\n",
              "          const element = document.querySelector('#df-c24dd82c-622f-4105-952d-232e897342cd');\n",
              "          const dataTable =\n",
              "            await google.colab.kernel.invokeFunction('convertToInteractive',\n",
              "                                                     [key], {});\n",
              "          if (!dataTable) return;\n",
              "\n",
              "          const docLinkHtml = 'Like what you see? Visit the ' +\n",
              "            '<a target=\"_blank\" href=https://colab.research.google.com/notebooks/data_table.ipynb>data table notebook</a>'\n",
              "            + ' to learn more about interactive tables.';\n",
              "          element.innerHTML = '';\n",
              "          dataTable['output_type'] = 'display_data';\n",
              "          await google.colab.output.renderOutput(dataTable, element);\n",
              "          const docLink = document.createElement('div');\n",
              "          docLink.innerHTML = docLinkHtml;\n",
              "          element.appendChild(docLink);\n",
              "        }\n",
              "      </script>\n",
              "    </div>\n",
              "  </div>\n",
              "  "
            ]
          },
          "metadata": {},
          "execution_count": 8
        }
      ]
    },
    {
      "cell_type": "markdown",
      "source": [
        "3. Visualizing dataset"
      ],
      "metadata": {
        "id": "_VICfpoeaKWK"
      }
    },
    {
      "cell_type": "code",
      "source": [
        "for i in range(len(df.columns[:-1])):\n",
        "  label = df.columns[i]\n",
        "  plt.hist(df[df['Outcome']==1][label], color='blue', label=\"Diabetes\", alpha=0.7, density=True, bins=15)\n",
        "  plt.hist(df[df['Outcome']==0][label], color='red', label=\"No diabetes\", alpha=0.7, density=True, bins=15)\n",
        "  plt.title(label)\n",
        "  plt.ylabel(\"Probability\")\n",
        "  plt.xlabel(label)\n",
        "  plt.legend()\n",
        "  plt.show()"
      ],
      "metadata": {
        "id": "LdE9ix8ZaJ8C"
      },
      "execution_count": null,
      "outputs": []
    },
    {
      "cell_type": "markdown",
      "source": [
        "Scaling and reshaping the quantities for good mesures"
      ],
      "metadata": {
        "id": "s5DWMXKxjjJf"
      }
    },
    {
      "cell_type": "code",
      "source": [
        "X = df[df.columns[:-1]].values\n",
        "y = df[df.columns[-1]].values\n",
        "print('Shape before : ',X.shape, y.shape) # X is 2D and y is 1D\n",
        "print('Length before : ',len(df[df[\"Outcome\"]==1]), len(df[df[\"Outcome\"]==0]))\n",
        "\n",
        "scaler = StandardScaler()\n",
        "X = scaler.fit_transform(X)\n",
        "data = np.hstack((X, np.reshape(y, (-1, 1))))\n",
        "transformed_df = pd.DataFrame(data, columns=df.columns)\n",
        "\n",
        "over = RandomOverSampler()\n",
        "X, y = over.fit_resample(X, y)\n",
        "data = np.hstack((X, np.reshape(y, (-1, 1))))\n",
        "transformed_df = pd.DataFrame(data, columns=df.columns)\n",
        "\n",
        "print('Shape after : ',X.shape, y.shape)\n",
        "print('Length after : ',len(transformed_df[transformed_df[\"Outcome\"]==1]), len(transformed_df[transformed_df[\"Outcome\"]==0]))"
      ],
      "metadata": {
        "colab": {
          "base_uri": "https://localhost:8080/"
        },
        "id": "4btvt1HKjqYj",
        "outputId": "e9669d91-9310-4c57-ef4d-09f62ed00b0a"
      },
      "execution_count": 21,
      "outputs": [
        {
          "output_type": "stream",
          "name": "stdout",
          "text": [
            "Shape before :  (768, 8) (768,)\n",
            "Length before :  268 500\n",
            "Shape after :  (1000, 8) (1000,)\n",
            "Length after :  500 500\n"
          ]
        }
      ]
    },
    {
      "cell_type": "markdown",
      "source": [
        "4. Strartring process"
      ],
      "metadata": {
        "id": "0CcAAQtfcYKZ"
      }
    },
    {
      "cell_type": "markdown",
      "source": [
        "Deviding data into:\n",
        "*   Training 60%\n",
        "*   Validation 20%\n",
        "*   Test 20%"
      ],
      "metadata": {
        "id": "7gnjyJGrfXOQ"
      }
    },
    {
      "cell_type": "code",
      "source": [
        "X_train, X_temp, y_train, y_temp = train_test_split(X, y, test_size=0.4, random_state=0)\n",
        "X_valid, X_test, y_valid, y_test = train_test_split(X_temp, y_temp, test_size=0.5, random_state=0)"
      ],
      "metadata": {
        "id": "GhKh85gvccTZ"
      },
      "execution_count": 22,
      "outputs": []
    },
    {
      "cell_type": "markdown",
      "source": [
        "Building Model by Sequencing stack of layers using 'Relu' as activation function for Dense layers and 'Sigmoid' for the final Dense layer, and setting 'Adam' optimizer beacause we are doing a binary classification"
      ],
      "metadata": {
        "id": "1P82nAzieSoM"
      }
    },
    {
      "cell_type": "code",
      "source": [
        "model = tf.keras.Sequential([\n",
        "                             tf.keras.layers.Dense(16, activation='relu'),\n",
        "                             tf.keras.layers.Dense(16, activation='relu'),\n",
        "                             tf.keras.layers.Dense(1, activation=\"sigmoid\")\n",
        "])\n",
        "model.compile(optimizer=tf.keras.optimizers.Adam(learning_rate=0.001),\n",
        "              loss=tf.keras.losses.BinaryCrossentropy(),\n",
        "              metrics=['accuracy'])"
      ],
      "metadata": {
        "id": "Qk8RQsppeKZI"
      },
      "execution_count": 23,
      "outputs": []
    },
    {
      "cell_type": "markdown",
      "source": [
        "Evaluating model"
      ],
      "metadata": {
        "id": "KE-IS6e2gqRX"
      }
    },
    {
      "cell_type": "code",
      "source": [
        "model.evaluate(X_train, y_train)"
      ],
      "metadata": {
        "colab": {
          "base_uri": "https://localhost:8080/"
        },
        "id": "MfZvKgingtvX",
        "outputId": "52a5bc5f-1818-4420-d943-f3e88a246867"
      },
      "execution_count": 24,
      "outputs": [
        {
          "output_type": "stream",
          "name": "stdout",
          "text": [
            "19/19 [==============================] - 0s 2ms/step - loss: 0.7275 - accuracy: 0.4417\n"
          ]
        },
        {
          "output_type": "execute_result",
          "data": {
            "text/plain": [
              "[0.7275047898292542, 0.4416666626930237]"
            ]
          },
          "metadata": {},
          "execution_count": 24
        }
      ]
    },
    {
      "cell_type": "code",
      "source": [
        "model.evaluate(X_valid, y_valid)"
      ],
      "metadata": {
        "colab": {
          "base_uri": "https://localhost:8080/"
        },
        "id": "3RyiAcRDhCkI",
        "outputId": "76d10a2b-2a19-4c26-e202-3c7e82e797d7"
      },
      "execution_count": 25,
      "outputs": [
        {
          "output_type": "stream",
          "name": "stdout",
          "text": [
            "7/7 [==============================] - 0s 2ms/step - loss: 0.7535 - accuracy: 0.4700\n"
          ]
        },
        {
          "output_type": "execute_result",
          "data": {
            "text/plain": [
              "[0.7534776926040649, 0.4699999988079071]"
            ]
          },
          "metadata": {},
          "execution_count": 25
        }
      ]
    },
    {
      "cell_type": "markdown",
      "source": [
        "The accuracy of the model is very bad.\n",
        "We haven't done any training, let's do it!"
      ],
      "metadata": {
        "id": "iQ8SsIjbg4uM"
      }
    },
    {
      "cell_type": "code",
      "source": [
        "model.fit(X_train, y_train, batch_size=16, epochs=20, validation_data=(X_valid, y_valid))"
      ],
      "metadata": {
        "colab": {
          "base_uri": "https://localhost:8080/"
        },
        "id": "j-9Gtl56iyur",
        "outputId": "665eaab4-9a19-4b63-9392-34e7179de653"
      },
      "execution_count": 26,
      "outputs": [
        {
          "output_type": "stream",
          "name": "stdout",
          "text": [
            "Epoch 1/20\n",
            "38/38 [==============================] - 1s 4ms/step - loss: 0.6974 - accuracy: 0.5067 - val_loss: 0.6707 - val_accuracy: 0.6100\n",
            "Epoch 2/20\n",
            "38/38 [==============================] - 0s 4ms/step - loss: 0.6361 - accuracy: 0.6650 - val_loss: 0.6046 - val_accuracy: 0.7350\n",
            "Epoch 3/20\n",
            "38/38 [==============================] - 0s 4ms/step - loss: 0.5865 - accuracy: 0.7217 - val_loss: 0.5526 - val_accuracy: 0.7550\n",
            "Epoch 4/20\n",
            "38/38 [==============================] - 0s 5ms/step - loss: 0.5518 - accuracy: 0.7317 - val_loss: 0.5188 - val_accuracy: 0.7800\n",
            "Epoch 5/20\n",
            "38/38 [==============================] - 0s 5ms/step - loss: 0.5332 - accuracy: 0.7350 - val_loss: 0.4999 - val_accuracy: 0.7750\n",
            "Epoch 6/20\n",
            "38/38 [==============================] - 0s 5ms/step - loss: 0.5191 - accuracy: 0.7367 - val_loss: 0.4837 - val_accuracy: 0.7750\n",
            "Epoch 7/20\n",
            "38/38 [==============================] - 0s 6ms/step - loss: 0.5084 - accuracy: 0.7367 - val_loss: 0.4718 - val_accuracy: 0.7650\n",
            "Epoch 8/20\n",
            "38/38 [==============================] - 0s 5ms/step - loss: 0.5008 - accuracy: 0.7383 - val_loss: 0.4674 - val_accuracy: 0.7600\n",
            "Epoch 9/20\n",
            "38/38 [==============================] - 0s 4ms/step - loss: 0.4949 - accuracy: 0.7350 - val_loss: 0.4605 - val_accuracy: 0.7700\n",
            "Epoch 10/20\n",
            "38/38 [==============================] - 0s 4ms/step - loss: 0.4898 - accuracy: 0.7433 - val_loss: 0.4563 - val_accuracy: 0.7750\n",
            "Epoch 11/20\n",
            "38/38 [==============================] - 0s 5ms/step - loss: 0.4843 - accuracy: 0.7433 - val_loss: 0.4512 - val_accuracy: 0.7650\n",
            "Epoch 12/20\n",
            "38/38 [==============================] - 0s 5ms/step - loss: 0.4803 - accuracy: 0.7433 - val_loss: 0.4472 - val_accuracy: 0.7900\n",
            "Epoch 13/20\n",
            "38/38 [==============================] - 0s 4ms/step - loss: 0.4772 - accuracy: 0.7417 - val_loss: 0.4446 - val_accuracy: 0.7750\n",
            "Epoch 14/20\n",
            "38/38 [==============================] - 0s 6ms/step - loss: 0.4750 - accuracy: 0.7483 - val_loss: 0.4427 - val_accuracy: 0.7950\n",
            "Epoch 15/20\n",
            "38/38 [==============================] - 0s 6ms/step - loss: 0.4709 - accuracy: 0.7600 - val_loss: 0.4408 - val_accuracy: 0.7850\n",
            "Epoch 16/20\n",
            "38/38 [==============================] - 0s 5ms/step - loss: 0.4695 - accuracy: 0.7633 - val_loss: 0.4361 - val_accuracy: 0.7800\n",
            "Epoch 17/20\n",
            "38/38 [==============================] - 0s 3ms/step - loss: 0.4661 - accuracy: 0.7650 - val_loss: 0.4373 - val_accuracy: 0.7800\n",
            "Epoch 18/20\n",
            "38/38 [==============================] - 0s 3ms/step - loss: 0.4638 - accuracy: 0.7750 - val_loss: 0.4345 - val_accuracy: 0.7800\n",
            "Epoch 19/20\n",
            "38/38 [==============================] - 0s 3ms/step - loss: 0.4612 - accuracy: 0.7750 - val_loss: 0.4307 - val_accuracy: 0.7750\n",
            "Epoch 20/20\n",
            "38/38 [==============================] - 0s 3ms/step - loss: 0.4604 - accuracy: 0.7600 - val_loss: 0.4299 - val_accuracy: 0.7750\n"
          ]
        },
        {
          "output_type": "execute_result",
          "data": {
            "text/plain": [
              "<keras.callbacks.History at 0x7fc47f259c10>"
            ]
          },
          "metadata": {},
          "execution_count": 26
        }
      ]
    },
    {
      "cell_type": "markdown",
      "source": [
        "Now lets evaluate our model on our Test dataset"
      ],
      "metadata": {
        "id": "hf1pe0-zmtaA"
      }
    },
    {
      "cell_type": "code",
      "source": [
        "model.evaluate(X_test, y_test)"
      ],
      "metadata": {
        "colab": {
          "base_uri": "https://localhost:8080/"
        },
        "id": "aj0c0V0nnAjI",
        "outputId": "d6aeef7b-a3d2-4c50-dd17-8ff24153106a"
      },
      "execution_count": 27,
      "outputs": [
        {
          "output_type": "stream",
          "name": "stdout",
          "text": [
            "7/7 [==============================] - 0s 3ms/step - loss: 0.5252 - accuracy: 0.7450\n"
          ]
        },
        {
          "output_type": "execute_result",
          "data": {
            "text/plain": [
              "[0.5252062678337097, 0.7450000047683716]"
            ]
          },
          "metadata": {},
          "execution_count": 27
        }
      ]
    },
    {
      "cell_type": "markdown",
      "source": [
        "Prety Good!"
      ],
      "metadata": {
        "id": "tNPMHOhZnHCh"
      }
    }
  ]
}